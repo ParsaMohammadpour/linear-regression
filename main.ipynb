{
  "cells": [
    {
      "cell_type": "code",
      "execution_count": 2,
      "metadata": {
        "colab": {
          "base_uri": "https://localhost:8080/"
        },
        "id": "pDtSlHmjPsom",
        "outputId": "39bfa51d-a6fb-4a6f-963b-cb9dce6a94bb"
      },
      "outputs": [
        {
          "output_type": "stream",
          "name": "stdout",
          "text": [
            "Mounted at /content/drive\n"
          ]
        }
      ],
      "source": [
        "from google.colab import drive\n",
        "drive.mount('/content/drive')"
      ],
      "id": "pDtSlHmjPsom"
    },
    {
      "cell_type": "markdown",
      "metadata": {
        "id": "klKDWVzSnTR5"
      },
      "source": [
        "Importing libraries We are going to use."
      ],
      "id": "klKDWVzSnTR5"
    },
    {
      "cell_type": "code",
      "execution_count": 3,
      "metadata": {
        "id": "EfFpzrB-cZZ-"
      },
      "outputs": [],
      "source": [
        "import random\n",
        "import numpy as np\n",
        "import pandas as pd\n",
        "import matplotlib.pyplot as plt"
      ],
      "id": "EfFpzrB-cZZ-"
    },
    {
      "cell_type": "markdown",
      "metadata": {
        "id": "AAv39RHunX-G"
      },
      "source": [
        "This Part Is for analyzing data's.\n",
        "Here as the result shows, we have approximately a unique \n",
        "vin, for each car, so it can't be useful in our learning. So we are not \n",
        "going to consider this column in our solution.\n",
        "'State' & 'Make' have limited number of data, so we make a column for them that \n",
        "can only contain 2 values, 0 and 1.(One-Hot-Encod)\n",
        "And we also do one-hot-encodeing for years too."
      ],
      "id": "AAv39RHunX-G"
    },
    {
      "cell_type": "code",
      "execution_count": 4,
      "metadata": {
        "colab": {
          "base_uri": "https://localhost:8080/"
        },
        "id": "W5w5Aey2Nk8-",
        "outputId": "cf8879d5-66e4-4767-ca48-9af835c6ba29"
      },
      "outputs": [
        {
          "output_type": "stream",
          "name": "stdout",
          "text": [
            "Records:  100000\n",
            "Model:  2094\n",
            "State:  59\n",
            "City:  2524\n",
            "Make:  56\n",
            "Year:  22\n",
            "Vin:  99999\n"
          ]
        }
      ],
      "source": [
        "df = pd.read_csv('/content/drive/MyDrive/ML_HW2_Q1/train.csv')\n",
        "print('Records: ', len(df))\n",
        "print('Model: ', df['Model'].nunique())\n",
        "print('State: ', df['State'].nunique())\n",
        "print('City: ', df['City'].nunique())\n",
        "print('Make: ', df['Make'].nunique())\n",
        "print('Year: ', df['Year'].nunique())\n",
        "print('Vin: ', df['Vin'].nunique())"
      ],
      "id": "W5w5Aey2Nk8-"
    },
    {
      "cell_type": "markdown",
      "metadata": {
        "id": "GXz7CA1qpUNr"
      },
      "source": [
        "Here we define some functions and some values for the class.\n",
        "#one_hot_encode:#\n",
        "this function is for setting a value for each unique value of non-numeric columns and store that number for that value in a dictionary.(we also store this dictionaries in a dictionary)\n",
        "\n",
        "#one_hot_decode:#\n",
        "this function is for getting each non-numeric value of a single column, and assign a number to that.(the value that we stored in a dictionary in previous part)\n",
        "\n",
        "#convert_to_numeric:#\n",
        "This function is for converting all non-numeric column to numeric columns by using one one_hot_encode & one_hot_decode functions that we explained befor.\n",
        "\n",
        "#normalize:#\n",
        "after we convert thoses columns to numeric, we Normalize all our columns (except thoses columns that are going to convert to a vector, 'State', 'Make')\n",
        "\n",
        "#gradian_function:#\n",
        "This Function is used for finding the gradin of the predicted price, and truth value of that price with it's definition.\n",
        "\n",
        "#cost_function_simplified:#\n",
        "Here, we define cost function and implement it's definition.\n",
        "\n",
        "#convert_columns_to_Vector:#\n",
        "As we mentioned befor, we are going to convert value of 2 columns, to vector.('State' & 'Make')\n",
        "So for each of these 2 columns, we define number of unique values columns instead. e.g. we are going to define 56 columns for Satate ('State0', 'State1', ..., 'State58') and set value of any record one, if that column ('State') value is the same thing as the number of the new column (for example for 'State0', this number is 0) that we had given to each record of that column in one-hot-encode function, we set that record 1, othervise 0.\n",
        "\n",
        "#LR_GD:#\n",
        "this function repeat the update part epoch times and then return the weight that it achieves at the end.\n",
        "\n",
        "#test:#\n",
        "this function is for testing. We can devide train data in 2 different part and test this model and drowing plots, or we can use this method for making the final csv file.\n",
        "\n"
      ],
      "id": "GXz7CA1qpUNr"
    },
    {
      "cell_type": "code",
      "execution_count": 5,
      "metadata": {
        "id": "f99824c0"
      },
      "outputs": [],
      "source": [
        "class Linear_Regression:\n",
        "  def __init__(self, x, target, columns, learning_rate, epoch, non_numeric_columns, convert_to_vector):\n",
        "    self.columns = columns\n",
        "    self.x = x\n",
        "    self.target = target\n",
        "    self.learning_rate = learning_rate\n",
        "    self.epoch = epoch\n",
        "    self.non_numeric_columns = non_numeric_columns\n",
        "    self.non_numeric_dic = {}\n",
        "    self.convert_to_vector = convert_to_vector\n",
        "    self.convert_to_vector_value = {}\n",
        "    self.final_columns = self.columns.copy()\n",
        "\n",
        "  def one_hot_encode(self, dictionary, values):\n",
        "    for x in values:\n",
        "        if x not in dictionary.keys():\n",
        "            dictionary[x] = len(dictionary)\n",
        "\n",
        "  def one_hot_decode(self, dictionary, key):\n",
        "    if key in dictionary.keys():\n",
        "        return dictionary[key]\n",
        "    dictionary[key] = len(dictionary)\n",
        "    return dictionary[key]\n",
        "\n",
        "  def convert_to_numeric(self):\n",
        "    for i in self.non_numeric_columns:\n",
        "      dictionary = {}\n",
        "      self.non_numeric_dic[i] = dictionary\n",
        "      self.one_hot_encode(dictionary, self.x[i].values)\n",
        "      self.x[i] = [self.one_hot_decode(dictionary, j) for j in self.x[i].values]\n",
        "\n",
        "  def normalize(self):\n",
        "    self.normalize_dictionary = {}\n",
        "    for i in self.final_columns:\n",
        "      if i in self.convert_to_vector:\n",
        "        continue\n",
        "      mean = np.mean(self.x[i])\n",
        "      var = np.var(self.x[i])\n",
        "      self.x[i] = (self.x[i] - mean) / var\n",
        "      self.normalize_dictionary[i] = {'mean':mean, 'var':var}\n",
        "  \n",
        "  def gradian_function(self, predict, w, x_vector):\n",
        "    return np.dot(predict - self.target, x_vector) / len(x_vector)\n",
        "\n",
        "  def cost_function_simplified(self, predicts):\n",
        "    return np.sum((predicts - self.target) ** 2) / (2 * len(self.target))\n",
        "\n",
        "  def convert_columns_to_Vector(self):\n",
        "    for i in self.convert_to_vector:\n",
        "      if i in self.final_columns:\n",
        "        self.convert_to_vector_value[i] = self.x[i].nunique()\n",
        "        self.final_columns.remove(i)\n",
        "      count = self.convert_to_vector_value[i]\n",
        "      for j in range(count):\n",
        "        self.final_columns.append(i + str(j))\n",
        "        self.x[i + str(j)] = np.where(self.x[i] == j, 1, 0)\n",
        "\n",
        "  def LR_GD(self):\n",
        "    self.convert_to_numeric()\n",
        "    self.normalize()\n",
        "    self.convert_columns_to_Vector()\n",
        "    x_vector = self.x.loc[:, self.final_columns].to_numpy()\n",
        "    print('Final Columns: ', self.final_columns)\n",
        "    # Adding A New Column With Value 1, Just To Set The Bias Along Side With W\n",
        "    bias = np.ones(len(self.x))\n",
        "    x_vector = np.c_[x_vector, bias]\n",
        "    w = [random.random() for x in range(len(self.final_columns) + 1)]\n",
        "    # w = [random.random() for x in range(len(columns))]\n",
        "    # w.append(np.mean(self.target))\n",
        "    predict = np.dot(x_vector, w)\n",
        "    costs = []\n",
        "    cost = self.cost_function_simplified(predict)\n",
        "    costs.append(cost)\n",
        "    for i in range(self.epoch):\n",
        "      gradian = self.gradian_function(predict, w, x_vector)\n",
        "      w = w - (self.learning_rate * gradian)\n",
        "      predict = np.dot(x_vector, w)\n",
        "      predict = np.array(predict)\n",
        "      cost = self.cost_function_simplified(predict)\n",
        "      costs.append(cost)\n",
        "    plt.plot([i for i in range(len(costs))], costs)\n",
        "    plt.xlabel('Test Number')\n",
        "    plt.ylabel('Cost Function')\n",
        "    plt.title('Cost-Function-Result')\n",
        "    plt.savefig(\"Cost-Function-Image.png\")\n",
        "    plt.show()\n",
        "    return w\n",
        "\n",
        "  def test(self, x_vector, target, w, show_plot = True, path = ''):\n",
        "    for col in self.non_numeric_columns:\n",
        "      dic = self.non_numeric_dic[col]\n",
        "      x_vector[col] = [self.one_hot_decode(dic, i) for i in x_vector[col].values]\n",
        "\n",
        "    for col in self.columns:\n",
        "      if col in self.convert_to_vector:\n",
        "        continue\n",
        "      dic = self.normalize_dictionary[col]\n",
        "      x_vector[col] = [(i - dic['mean']) / dic['var'] for i in x_vector[col]]\n",
        "\n",
        "    for i in self.convert_to_vector:\n",
        "      count = self.convert_to_vector_value[i]\n",
        "      for j in range(count):\n",
        "        x_vector[i + str(j)] = np.where(x_vector[i] == j, 1, 0)\n",
        "\n",
        "    x_matrix = x_vector.loc[:, self.final_columns].to_numpy()\n",
        "    bias_matrix = np.ones(len(x_vector))\n",
        "    x_matrix = np.c_[x_matrix, bias_matrix]\n",
        "    predict = np.absolute(np.dot(x_matrix, w))\n",
        "    if not show_plot:\n",
        "      df = pd.read_csv('/content/drive/MyDrive/ML_HW2_Q1/test.csv')\n",
        "      df['Price'] = predict\n",
        "      df.loc[:,['Price', 'CarId']].to_csv('/content/predict.csv', index = False)\n",
        "      return\n",
        "    plt.plot([x for x in range(len(target))], np.array(target), color='b')\n",
        "    plt.plot([x for x in range(len(predict))], np.array(predict), color='r')\n",
        "    plt.savefig('Test.png')\n",
        "    plt.show()\n",
        "    mins = [min(target), min(predict)]\n",
        "    maxs = [max(target), max(predict)]\n",
        "    plt.plot([min(mins), max(maxs)], [min(mins), max(maxs)])\n",
        "    plt.scatter(predict, target)\n",
        "    plt.xlabel('Predicted Price')\n",
        "    plt.ylabel('Price')\n",
        "    plt.savefig('Professional-Result.png')\n",
        "    plt.show()"
      ],
      "id": "f99824c0"
    },
    {
      "cell_type": "code",
      "execution_count": 7,
      "metadata": {
        "colab": {
          "base_uri": "https://localhost:8080/",
          "height": 1000
        },
        "id": "9_FhZBHCceIV",
        "outputId": "d00a5d5f-f60e-407c-b468-c1503575821b"
      },
      "outputs": [
        {
          "metadata": {
            "tags": null
          },
          "name": "stderr",
          "output_type": "stream",
          "text": [
            "/usr/local/lib/python3.7/dist-packages/ipykernel_launcher.py:56: PerformanceWarning: DataFrame is highly fragmented.  This is usually the result of calling `frame.insert` many times, which has poor performance.  Consider joining all columns at once using pd.concat(axis=1) instead.  To get a de-fragmented frame, use `newframe = frame.copy()`\n"
          ]
        },
        {
          "metadata": {
            "tags": null
          },
          "name": "stdout",
          "output_type": "stream",
          "text": [
            "Final Columns:  ['Mileage', 'City', 'Model', 'Year0', 'Year1', 'Year2', 'Year3', 'Year4', 'Year5', 'Year6', 'Year7', 'Year8', 'Year9', 'Year10', 'Year11', 'Year12', 'Year13', 'Year14', 'Year15', 'Year16', 'Year17', 'Year18', 'Year19', 'Year20', 'Year21', 'Make0', 'Make1', 'Make2', 'Make3', 'Make4', 'Make5', 'Make6', 'Make7', 'Make8', 'Make9', 'Make10', 'Make11', 'Make12', 'Make13', 'Make14', 'Make15', 'Make16', 'Make17', 'Make18', 'Make19', 'Make20', 'Make21', 'Make22', 'Make23', 'Make24', 'Make25', 'Make26', 'Make27', 'Make28', 'Make29', 'Make30', 'Make31', 'Make32', 'Make33', 'Make34', 'Make35', 'Make36', 'Make37', 'Make38', 'Make39', 'Make40', 'Make41', 'Make42', 'Make43', 'Make44', 'Make45', 'Make46', 'Make47', 'Make48', 'Make49', 'Make50', 'Make51', 'Make52', 'Make53', 'Make54', 'Make55', 'State0', 'State1', 'State2', 'State3', 'State4', 'State5', 'State6', 'State7', 'State8', 'State9', 'State10', 'State11', 'State12', 'State13', 'State14', 'State15', 'State16', 'State17', 'State18', 'State19', 'State20', 'State21', 'State22', 'State23', 'State24', 'State25', 'State26', 'State27', 'State28', 'State29', 'State30', 'State31', 'State32', 'State33', 'State34', 'State35', 'State36', 'State37', 'State38', 'State39', 'State40', 'State41', 'State42', 'State43', 'State44', 'State45', 'State46', 'State47', 'State48', 'State49', 'State50', 'State51', 'State52', 'State53', 'State54', 'State55', 'State56', 'State57', 'State58']\n"
          ]
        },
        {
          "output_type": "display_data",
          "data": {
            "text/plain": [
              "<Figure size 432x288 with 1 Axes>"
            ],
            "image/png": "[encoded data removed]"
          },
          "metadata": {
            "needs_background": "light"
          }
        },
        {
          "output_type": "stream",
          "name": "stdout",
          "text": [
            "W:  [-1.23872749e+03  1.08325550e+03  2.11369098e+03  4.65420974e-01\n",
            "  5.66068272e-01  4.07953332e-01  7.41576205e-01  7.21720368e-01\n",
            "  6.77475184e-02  2.13918332e-01  4.49310234e-01  4.02900996e-01\n",
            "  3.88004632e-03  7.81123302e-01  6.16839746e-01  5.86398397e-01\n",
            "  6.58969545e-01  2.44358954e-01  6.69257049e-01  9.04144611e-01\n",
            "  8.13327645e-01  8.80559708e-01  1.18473601e-01  5.92027339e-02\n",
            "  6.92003328e-01 -1.36431272e+04 -1.32083774e+04 -1.89783642e+04\n",
            " -1.62702582e+04 -1.41562537e+04 -2.01304264e+04 -4.03150419e+03\n",
            " -1.96648050e+04 -9.54907604e+03 -1.87242684e+04 -1.59980327e+04\n",
            " -7.64058968e+03 -7.37253516e+03 -8.54371658e+03 -1.26754646e+04\n",
            " -1.98172848e+04 -2.06553851e+04 -1.19711083e+04 -2.67847742e+04\n",
            " -1.76689008e+04 -4.69552375e+03 -2.12380015e+04 -1.03906150e+04\n",
            " -1.66655825e+04  2.13876055e+04 -7.57103682e+03  6.67790297e+03\n",
            " -2.27761723e+04 -1.82741751e+04  1.61506070e+04 -2.32356976e+04\n",
            " -1.23691844e+04 -1.58874422e+04 -2.81537161e+04 -2.24088710e+04\n",
            " -2.89385587e+04 -2.68808724e+04  5.68920800e+02  1.48557000e+05\n",
            "  4.98191145e+04  1.08487350e+05 -5.15045649e+03 -2.53042448e+02\n",
            " -2.42786118e+04 -2.68424028e+04  2.31617099e+04 -1.53966772e+04\n",
            "  7.27153212e+03  6.05476811e+04  6.89407618e+04  1.49789485e+05\n",
            "  6.52446177e+03 -1.21649154e+04  4.78058143e+03 -2.21907961e+03\n",
            "  5.98343268e+03  1.87684676e+03  1.13544715e+02  6.53289766e+01\n",
            "  9.44164817e+02 -1.53762826e+03  1.50228475e+03  2.06493192e+03\n",
            "  3.16756132e+02  1.04345272e+02  6.80623872e+01  1.39700273e+02\n",
            "  1.40033136e+03 -2.08074186e+03  5.65041716e+02  6.55624913e+02\n",
            " -2.70488500e+02  5.69709084e+02 -5.06559318e+02 -4.06322400e+02\n",
            " -2.45770284e+02  1.19731073e+02  6.13487348e+02 -1.19571812e+03\n",
            "  2.08813968e+03  1.15028007e+02  2.32517895e+02 -1.23602075e+03\n",
            " -3.41487542e+03  3.27458942e+02 -8.28229344e+02  4.00231730e+02\n",
            "  1.36099636e+03  3.25834378e+02  2.11179408e+03 -5.36532142e+02\n",
            "  1.44206006e+03  1.27604389e+03  2.52028275e+03  2.42029416e+03\n",
            " -4.93694263e+02  3.22297721e+03  2.76110460e+02  2.53791283e+03\n",
            "  1.16392413e+03  7.47993368e+02 -1.17154847e+03  2.54185129e+03\n",
            "  7.20700176e+02  1.00929622e+03  8.74263229e+01  3.14320399e+02\n",
            "  5.93405027e+03  1.97973116e+03  1.62421750e+03  8.77874544e+01\n",
            "  2.69373208e+03 -1.58594175e+02  1.18710864e+03 -2.41506724e+03\n",
            "  3.53418582e+04]\n"
          ]
        },
        {
          "output_type": "stream",
          "name": "stderr",
          "text": [
            "/usr/local/lib/python3.7/dist-packages/ipykernel_launcher.py:103: PerformanceWarning: DataFrame is highly fragmented.  This is usually the result of calling `frame.insert` many times, which has poor performance.  Consider joining all columns at once using pd.concat(axis=1) instead.  To get a de-fragmented frame, use `newframe = frame.copy()`\n"
          ]
        },
        {
          "output_type": "display_data",
          "data": {
            "text/plain": [
              "<Figure size 432x288 with 1 Axes>"
            ],
            "image/png": "[encoded data removed]"
          },
          "metadata": {
            "needs_background": "light"
          }
        },
        {
          "output_type": "display_data",
          "data": {
            "text/plain": [
              "<Figure size 432x288 with 1 Axes>"
            ],
            "image/png": "[encoded data removed]"
          },
          "metadata": {
            "needs_background": "light"
          }
        }
      ],
      "source": [
        "############################################# My Test #############################################\n",
        "df = pd.read_csv('/content/drive/MyDrive/ML_HW2_Q1/train.csv')\n",
        "test = df.iloc[99900:, :]\n",
        "df = df.iloc[:99900, :]\n",
        "# columns = ['Year', 'Mileage', 'City', 'State', 'Make', 'Model']\n",
        "# non_numeric_columns = ['City', 'State', 'Make', 'Model']\n",
        "# columns = ['Year', 'Mileage', 'State', 'Make', 'Model']\n",
        "columns = ['Mileage', 'City', 'Model', 'Year', 'Make', 'State']\n",
        "non_numeric_columns = ['City', 'Model', 'Make', 'State']\n",
        "vectorize = ['Year', 'Make', 'State']\n",
        "target = df['Price']\n",
        "lr = Linear_Regression(df.loc[:,columns], target, columns, 0.018888885, 500000, non_numeric_columns, vectorize)\n",
        "w = lr.LR_GD()\n",
        "print('W: ', w)\n",
        "lr.test(test.loc[:,columns], test.loc[:,['Price']].values, w)"
      ],
      "id": "9_FhZBHCceIV"
    },
    {
      "cell_type": "code",
      "execution_count": 7,
      "metadata": {
        "colab": {
          "base_uri": "https://localhost:8080/",
          "height": 992
        },
        "id": "OA979K_mcqx-",
        "outputId": "435a7b62-c33f-448c-f7cb-b0d5bba710c6"
      },
      "outputs": [
        {
          "metadata": {
            "tags": null
          },
          "name": "stderr",
          "output_type": "stream",
          "text": [
            "/usr/local/lib/python3.7/dist-packages/ipykernel_launcher.py:56: PerformanceWarning: DataFrame is highly fragmented.  This is usually the result of calling `frame.insert` many times, which has poor performance.  Consider joining all columns at once using pd.concat(axis=1) instead.  To get a de-fragmented frame, use `newframe = frame.copy()`\n"
          ]
        },
        {
          "metadata": {
            "tags": null
          },
          "name": "stdout",
          "output_type": "stream",
          "text": [
            "Final Columns:  ['Mileage', 'City', 'Model', 'Year0', 'Year1', 'Year2', 'Year3', 'Year4', 'Year5', 'Year6', 'Year7', 'Year8', 'Year9', 'Year10', 'Year11', 'Year12', 'Year13', 'Year14', 'Year15', 'Year16', 'Year17', 'Year18', 'Year19', 'Year20', 'Year21', 'Make0', 'Make1', 'Make2', 'Make3', 'Make4', 'Make5', 'Make6', 'Make7', 'Make8', 'Make9', 'Make10', 'Make11', 'Make12', 'Make13', 'Make14', 'Make15', 'Make16', 'Make17', 'Make18', 'Make19', 'Make20', 'Make21', 'Make22', 'Make23', 'Make24', 'Make25', 'Make26', 'Make27', 'Make28', 'Make29', 'Make30', 'Make31', 'Make32', 'Make33', 'Make34', 'Make35', 'Make36', 'Make37', 'Make38', 'Make39', 'Make40', 'Make41', 'Make42', 'Make43', 'Make44', 'Make45', 'Make46', 'Make47', 'Make48', 'Make49', 'Make50', 'Make51', 'Make52', 'Make53', 'Make54', 'Make55', 'State0', 'State1', 'State2', 'State3', 'State4', 'State5', 'State6', 'State7', 'State8', 'State9', 'State10', 'State11', 'State12', 'State13', 'State14', 'State15', 'State16', 'State17', 'State18', 'State19', 'State20', 'State21', 'State22', 'State23', 'State24', 'State25', 'State26', 'State27', 'State28', 'State29', 'State30', 'State31', 'State32', 'State33', 'State34', 'State35', 'State36', 'State37', 'State38', 'State39', 'State40', 'State41', 'State42', 'State43', 'State44', 'State45', 'State46', 'State47', 'State48', 'State49', 'State50', 'State51', 'State52', 'State53', 'State54', 'State55', 'State56', 'State57', 'State58']\n"
          ]
        },
        {
          "output_type": "display_data",
          "data": {
            "text/plain": [
              "<Figure size 432x288 with 1 Axes>"
            ],
            "image/png": "[encoded data removed]"
          },
          "metadata": {
            "needs_background": "light"
          }
        },
        {
          "output_type": "stream",
          "name": "stdout",
          "text": [
            "W:  [-2.64206382e+03  2.21872737e+02  8.14035871e+02  4.83025097e+03\n",
            "  9.54147026e+03  9.00580022e+03  1.19964126e+04 -3.50346732e+03\n",
            "  6.17362053e+03 -1.88967776e+03  3.60853032e+03  1.13426457e+03\n",
            "  2.67285312e+02 -3.20457238e+03 -4.64902849e+03 -1.04076989e+02\n",
            "  2.45514439e+03 -1.49452952e+03 -6.49112780e+03 -9.71496218e+02\n",
            " -4.02871909e+03  1.61574148e+04 -4.34988841e+03  2.39281955e+03\n",
            " -3.87150862e+03 -7.98120565e+03 -7.51239323e+03 -1.33241436e+04\n",
            " -1.06158424e+04 -8.50129812e+03 -1.45379185e+04  1.63674181e+03\n",
            " -1.39201826e+04 -3.63257570e+03 -1.30578573e+04 -1.05145894e+04\n",
            " -1.89456829e+03 -1.91057536e+03 -2.87627345e+03 -7.22514439e+03\n",
            " -1.42736930e+04 -1.50470838e+04 -6.76050081e+03 -1.24923872e+04\n",
            " -1.19779942e+04  6.57374929e+02 -1.55713263e+04 -4.63688420e+03\n",
            " -1.10480115e+04  2.70099848e+04 -1.96420937e+03  1.33619945e+04\n",
            " -1.98506111e+04 -1.25425018e+04  1.93603885e+04 -1.67509199e+04\n",
            " -6.63093426e+03 -2.95062492e+02 -1.29474963e+04 -1.72370420e+04\n",
            " -1.27797209e+04 -2.10194407e+04  4.69392893e+03  9.38370459e+04\n",
            "  2.91696772e+04  4.89414050e+04  3.70371787e+02  2.79925485e+02\n",
            " -7.31306058e+03 -1.02211926e+04  1.47044687e+04 -2.35597776e+03\n",
            "  3.04732553e+03  4.08495683e+04  2.70859947e+04  7.76594099e+04\n",
            "  3.06485947e+03 -1.59804308e+03  6.76153497e+02 -2.65737195e+02\n",
            "  3.18277306e+03  2.13158317e+03  6.44813673e+02  5.80461049e+02\n",
            "  1.54695320e+03 -1.10611539e+03  1.78476204e+03  2.62493717e+03\n",
            "  8.48759667e+02  5.77388078e+02  6.50352514e+02  6.40719630e+02\n",
            "  1.78365985e+03 -1.57260416e+03  1.10057508e+03  1.24392787e+03\n",
            "  3.97110898e+01  7.53739472e+02  3.48223984e+00  1.47141192e+02\n",
            "  3.74059820e+02  6.39123518e+02  9.09556512e+02 -7.35117585e+02\n",
            "  1.09983417e+03  5.60628199e+02  5.98957393e+02 -6.53909037e+02\n",
            " -8.25403831e+02  1.03052043e+03 -2.73893518e+02  6.41918464e+02\n",
            "  1.84730002e+03  8.39050435e+02  2.04904041e+03 -3.09463501e+02\n",
            "  8.50965745e+02  2.69523527e+03  4.40891017e+03  2.23230064e+03\n",
            "  1.17333207e+03  2.97452297e+03  7.75762887e+02  2.66696744e+03\n",
            "  2.90169376e+03  1.60197723e+03  1.23141170e+03  1.63832031e+03\n",
            "  2.99002412e+02  5.94724054e+02 -3.81862643e+02  1.87683362e+03\n",
            "  5.52466392e+03  3.44167246e+02  6.00880394e+02 -4.05375804e+02\n",
            "  8.19760076e+02  6.56389743e+02  7.12203282e+02 -1.32242741e+02\n",
            "  2.91829930e+04]\n"
          ]
        },
        {
          "output_type": "stream",
          "name": "stderr",
          "text": [
            "/usr/local/lib/python3.7/dist-packages/ipykernel_launcher.py:107: PerformanceWarning: DataFrame is highly fragmented.  This is usually the result of calling `frame.insert` many times, which has poor performance.  Consider joining all columns at once using pd.concat(axis=1) instead.  To get a de-fragmented frame, use `newframe = frame.copy()`\n"
          ]
        }
      ],
      "source": [
        "############################################# Upload #############################################\n",
        "df = pd.read_csv('/content/drive/MyDrive/ML_HW2_Q1/train.csv')\n",
        "target = df['Price']\n",
        "test_path = '/content/drive/MyDrive/ML_HW2_Q1/test.csv'\n",
        "test = pd.read_csv(test_path)\n",
        "# columns = ['Year', 'Mileage', 'State', 'Make', 'Model']\n",
        "# non_numeric_columns = ['State', 'Make', 'Model']\n",
        "# vectorize = ['State', 'Make', 'Year']\n",
        "#####   Best Answer  #####\n",
        "# vectorize = ['State', 'Make']\n",
        "# vectorize = ['City', 'State', 'Make', 'Model']\n",
        "\n",
        "columns = ['Mileage', 'City', 'Model', 'Year', 'Make', 'State']\n",
        "non_numeric_columns = ['City', 'Model', 'Make', 'State']\n",
        "vectorize = ['Year', 'Make', 'State']\n",
        "show_plot = False\n",
        "#####   Best Answer  #####\n",
        "lr = Linear_Regression(df.loc[:,columns], target, columns, 0.018888885, 500000, non_numeric_columns, vectorize)\n",
        "w = lr.LR_GD()\n",
        "print('W: ', w)\n",
        "lr.test(test.loc[:,columns], [], w, show_plot, test_path)"
      ],
      "id": "OA979K_mcqx-"
    },
    {
      "cell_type": "code",
      "execution_count": null,
      "metadata": {
        "colab": {
          "base_uri": "https://localhost:8080/",
          "height": 235
        },
        "id": "PE8moTGacUzd",
        "outputId": "0a1f7b1f-f408-4f9b-a8f7-b91baad9cfee"
      },
      "outputs": [
        {
          "ename": "TypeError",
          "evalue": "ignored",
          "output_type": "error",
          "traceback": [
            "\u001b[0;31m---------------------------------------------------------------------------\u001b[0m",
            "\u001b[0;31mTypeError\u001b[0m                                 Traceback (most recent call last)",
            "\u001b[0;32m<ipython-input-60-ec3835ec23af>\u001b[0m in \u001b[0;36m<module>\u001b[0;34m\u001b[0m\n\u001b[1;32m      1\u001b[0m \u001b[0mdf\u001b[0m \u001b[0;34m=\u001b[0m \u001b[0mpd\u001b[0m\u001b[0;34m.\u001b[0m\u001b[0mread_csv\u001b[0m\u001b[0;34m(\u001b[0m\u001b[0;34m'/content/drive/MyDrive/ML_HW2_Q1/train.csv'\u001b[0m\u001b[0;34m)\u001b[0m\u001b[0;34m\u001b[0m\u001b[0;34m\u001b[0m\u001b[0m\n\u001b[0;32m----> 2\u001b[0;31m \u001b[0mprint\u001b[0m\u001b[0;34m(\u001b[0m\u001b[0mmax\u001b[0m\u001b[0;34m(\u001b[0m\u001b[0mdf\u001b[0m\u001b[0;34m[\u001b[0m\u001b[0;34m'Model'\u001b[0m\u001b[0;34m]\u001b[0m\u001b[0;34m.\u001b[0m\u001b[0mnunique\u001b[0m\u001b[0;34m(\u001b[0m\u001b[0;34m)\u001b[0m\u001b[0;34m)\u001b[0m\u001b[0;34m)\u001b[0m\u001b[0;34m\u001b[0m\u001b[0;34m\u001b[0m\u001b[0m\n\u001b[0m\u001b[1;32m      3\u001b[0m \u001b[0mprint\u001b[0m\u001b[0;34m(\u001b[0m\u001b[0mmax\u001b[0m\u001b[0;34m(\u001b[0m\u001b[0mdf\u001b[0m\u001b[0;34m[\u001b[0m\u001b[0;34m'State'\u001b[0m\u001b[0;34m]\u001b[0m\u001b[0;34m.\u001b[0m\u001b[0mnunique\u001b[0m\u001b[0;34m(\u001b[0m\u001b[0;34m)\u001b[0m\u001b[0;34m)\u001b[0m\u001b[0;34m)\u001b[0m\u001b[0;34m\u001b[0m\u001b[0;34m\u001b[0m\u001b[0m\n\u001b[1;32m      4\u001b[0m \u001b[0mprint\u001b[0m\u001b[0;34m(\u001b[0m\u001b[0mmax\u001b[0m\u001b[0;34m(\u001b[0m\u001b[0mdf\u001b[0m\u001b[0;34m[\u001b[0m\u001b[0;34m'City'\u001b[0m\u001b[0;34m]\u001b[0m\u001b[0;34m.\u001b[0m\u001b[0mnunique\u001b[0m\u001b[0;34m(\u001b[0m\u001b[0;34m)\u001b[0m\u001b[0;34m)\u001b[0m\u001b[0;34m)\u001b[0m\u001b[0;34m\u001b[0m\u001b[0;34m\u001b[0m\u001b[0m\n\u001b[1;32m      5\u001b[0m \u001b[0;34m\u001b[0m\u001b[0m\n",
            "\u001b[0;31mTypeError\u001b[0m: 'int' object is not iterable"
          ]
        }
      ],
      "source": [
        "# ////////////////////////////////////////////////////////////////////////////////////////////////////////////////////////////////////\n",
        "\n",
        "# def one_hot_encode(dictionary, df):\n",
        "#     for x in df:\n",
        "#         if x not in dictionary.keys():\n",
        "#             dictionary[x] = len(dictionary)\n",
        "\n",
        "# def one_hot_decode(dictionary, key):\n",
        "#     if key in dictionary.keys():\n",
        "#         return dictionary[key]\n",
        "#     dictionary[key] = len(dictionary)\n",
        "#     return dictionary[key]\n",
        "\n",
        "\n",
        "# # def loss_function(predicted, target):\n",
        "# #     return ((predicted - target) ** 2) / 2\n",
        "# #\n",
        "# # def cost_function(predicts, targets):\n",
        "# #     return sum([loss_function(predicts[x], targets[x]) for x in range(len(targets))]) / len(targets)\n",
        "\n",
        "# def cost_function_simplified(predicts, targets):\n",
        "#     return np.sum((predicts - targets) ** 2) / (2 * len(targets))\n",
        "\n",
        "# def gradian_function(predict, target, w, x_vector):\n",
        "#     return np.dot(predict - target, x_vector) / len(x_vector)\n",
        "#     # diff = predict - target\n",
        "#     # gradian = np.dot(diff, x_vector)\n",
        "#     # return gradian / len(x_vector)\n",
        "\n",
        "# # df = pd.read_csv('/content/drive/MyDrive/ML_HW2_Q1/train.csv')\n",
        "# df = pd.read_csv('/content/drive/MyDrive/ML_HW2_Q1/train.csv').iloc[:99900, :]\n",
        "\n",
        "# # Converting Non Numeric Values To Numeric Values By Using one_hot_function\n",
        "# city_rank = {}\n",
        "# one_hot_encode(city_rank, df['City'])\n",
        "# rank = [city_rank[x] for x in df['City']]\n",
        "# city_mean = np.mean(rank)\n",
        "# city_var = np.var(rank)\n",
        "# df['City Rank'] = [(x - city_mean) / city_var for x in rank]\n",
        "\n",
        "# state_rank = {}\n",
        "# one_hot_encode(state_rank, df['State'])\n",
        "# rank = [state_rank[x] for x in df['State']]\n",
        "# state_mean = np.mean(rank)\n",
        "# state_var = np.var(rank)\n",
        "# df['State Rank'] = [(x - state_mean) / state_var for x in rank]\n",
        "\n",
        "# # vin_rank = {}\n",
        "# # one_hot_encode(vin_rank, df['Vin'])\n",
        "# # rank = [vin_rank[x] for x in df['Vin']]\n",
        "# # vin_mean = np.mean(rank)\n",
        "# # vin_var = np.var(rank)\n",
        "# # df['Vin Rank'] = [(x - vin_mean) / vin_var for x in rank]\n",
        "\n",
        "# make_rank = {}\n",
        "# one_hot_encode(make_rank, df['Make'])\n",
        "# rank = [make_rank[x] for x in df['Make']]\n",
        "# make_mean = np.mean(rank)\n",
        "# make_var = np.var(rank)\n",
        "# df['Make Rank'] = [(x - make_mean) / make_var for x in rank]\n",
        "\n",
        "# model_rank = {}\n",
        "# one_hot_encode(model_rank, df['Model'])\n",
        "# rank = [model_rank[x] for x in df['Model']]\n",
        "# model_mean = np.mean(rank)\n",
        "# model_var = np.var(rank)\n",
        "# df['Model Rank'] = [(x - model_mean) / model_var for x in rank]\n",
        "\n",
        "# year_mean = np.mean(df['Year'])\n",
        "# year_var = np.var(df['Year'])\n",
        "# df['Year'] = [(x - year_mean) / year_var for x in df['Year']]\n",
        "\n",
        "# mileage_mean = np.mean(df['Mileage'])\n",
        "# mileage_var = np.var(df['Mileage'])\n",
        "# df['Mileage'] = [(x - mileage_mean) / mileage_var for x in df['Mileage']]\n",
        "\n",
        "\n",
        "# # columns = ['Year', 'Mileage', 'City Rank', 'State Rank', 'Vin Rank', 'Make Rank', 'Model Rank']\n",
        "# columns = ['Year', 'Mileage', 'City Rank', 'State Rank', 'Make Rank', 'Model Rank']\n",
        "# x_vector = df.loc[:, columns].to_numpy()\n",
        "\n",
        "# # Adding A New Column With Value 1, Just To Set The Bias Along Side With W\n",
        "# bias = np.ones(len(df))\n",
        "# x_vector = np.c_[x_vector, bias]\n",
        "# # print('x_vector:')\n",
        "# # print(x_vector[0])\n",
        "\n",
        "# target = np.array(df.iloc[:,0].values)\n",
        "# # target_mean = np.mean(target)\n",
        "# # target_var = np.var(target)\n",
        "# # target = (target - target_mean) / target_var\n",
        "# # print('target:')\n",
        "# # print(target)\n",
        "\n",
        "# learning_rate = 0.0015\n",
        "# epoch = 30000\n",
        "\n",
        "# # Setting The Bias Number In This Vector Along Side Of Xi\n",
        "# # w = [((random.random() * 1)) for x in range(len(columns) + 1)]\n",
        "# w = [((random.random() * 1) + 0) for x in range(len(columns) + 1)]\n",
        "# # w = [((random.random() * 1) + 0) for x in range(len(columns))]\n",
        "# # w.append(np.mean(df['Price']))\n",
        "# # w.append(np.mean(df['Price']))\n",
        "# # w.append(1)\n",
        "# # w.append(df['Price'].mean())\n",
        "# # w = [1 for x in range(len(columns) + 1)]\n",
        "# # print('W:')\n",
        "# # print(w)\n",
        "\n",
        "\n",
        "# predict = np.dot(x_vector, w)\n",
        "# # print('predict:')\n",
        "# # print(predict)\n",
        "# cost = cost_function_simplified(predict, target)\n",
        "# # print('cost:')\n",
        "# # print(cost)\n",
        "\n",
        "# coasts = []\n",
        "# for i in range(epoch):\n",
        "#     gradian = gradian_function(predict, target, w, x_vector)\n",
        "#     w = w - (learning_rate * gradian)\n",
        "#     # print('New W:')\n",
        "#     # print(w)\n",
        "#     predict = np.dot(x_vector, w)\n",
        "#     # print('Predict:')\n",
        "#     # print(predict)\n",
        "#     cost = cost_function_simplified(predict, target)\n",
        "#     # print('cost:')\n",
        "#     # print(cost)\n",
        "#     coasts.append(cost)\n",
        "\n",
        "# x = [i for i in range(len(coasts))]\n",
        "# # plt.plot(x, coasts, marker = 'o', mec = 'r', mfc = 'r', linestyle  = \"--\")\n",
        "# plt.plot(x, coasts)\n",
        "# plt.xlabel('Test Number')\n",
        "# plt.ylabel('Cost Function')\n",
        "# plt.title('Cost Function Result')\n",
        "# plt.savefig(\"Loss-Function-Plot.png\")\n",
        "# plt.show()\n",
        "\n",
        "\n",
        "# ###################################################################\n",
        "# ##############         My Test          ####################\n",
        "# df = pd.read_csv('/content/drive/MyDrive/ML_HW2_Q1/train.csv').iloc[99900:, :]\n",
        "\n",
        "# # Converting Non Numeric Values To Numeric Values By Using rank function\n",
        "# df['City Rank'] = [(one_hot_decode(city_rank, x) - city_mean) / city_var for x in df['City']]\n",
        "# # df['City Rank'] = [one_hot_decode(city_rank, x) for x in df['City']]\n",
        "# # df['City Rank'] = [(x - np.mean(df['City Rank'])) / np.var(df['City Rank']) for x in df['City Rank']]\n",
        "# df['State Rank'] = [(one_hot_decode(state_rank, x) - state_mean) / state_var for x in df['State']]\n",
        "# # df['State Rank'] = [one_hot_decode(state_rank, x) for x in df['State']]\n",
        "# # df['State Rank'] = [(x - np.mean(df['State Rank'])) / np.var(df['State Rank']) for x in df['State Rank']]\n",
        "# # df['Vin Rank'] = [(one_hot_decode(vin_rank, x) - vin_mean) / vin_var for x in df['Vin']]\n",
        "# df['Make Rank'] = [(one_hot_decode(make_rank, x) - make_mean) / make_var for x in df['Make']]\n",
        "# # df['Make Rank'] = [one_hot_decode(make_rank, x) for x in df['Make']]\n",
        "# # df['Make Rank'] = [(x - np.mean(df['Make Rank'])) / np.var(df['Make Rank']) for x in df['Make Rank']]\n",
        "# df['Model Rank'] = [(one_hot_decode(model_rank, x) - model_mean) / model_var for x in df['Model']]\n",
        "# # df['Model Rank'] = [one_hot_decode(model_rank, x) for x in df['Model']]\n",
        "# # df['Model Rank'] = [(x - np.mean(df['Model Rank'])) / np.var(df['Model Rank']) for x in df['Model Rank']]\n",
        "\n",
        "# df['Year'] = [(x - year_mean) / year_var for x in df['Year']]\n",
        "\n",
        "# df['Mileage'] = [(x - mileage_mean) / mileage_var for x in df['Mileage']]\n",
        "\n",
        "# test_x = df.loc[:, columns].to_numpy()\n",
        "# test_bias = np.ones(len(df))\n",
        "# test_x = np.c_[test_x, test_bias]\n",
        "\n",
        "# df['Predicted Price'] = np.dot(test_x, w)\n",
        "# # df['Predicted Price'] = [abs(x) for x in df['Predicted Price']]\n",
        "# # df['Predicted Price'] = [(x * target_var) + target_mean for x in df['Predicted Price']]\n",
        "\n",
        "# print('Total Predicted Price:')\n",
        "# print(df['Predicted Price'].to_string())\n",
        "# print('w:')\n",
        "# print(w)\n",
        "# print('x_vector:')\n",
        "# print(test_x)\n",
        "\n",
        "# plt.subplot(211)\n",
        "# plt.plot(df['Price'])\n",
        "# plt.subplot(212)\n",
        "# plt.plot(df['Predicted Price'])\n",
        "# plt.show()\n",
        "\n",
        "# plt.plot([x for x in range(len(df))], np.array(df.iloc[:,0].values), color='b')\n",
        "# plt.plot([x for x in range(len(df))], np.array(df.loc[:,['Predicted Price']].values), color='r')\n",
        "# plt.savefig('My Test On 10 Test date.png')\n",
        "# plt.show()\n",
        "# # print('Target Mean:')\n",
        "# # print(target_mean)\n",
        "# # print('Target Var:')\n",
        "# # print(target_var)\n",
        "# mins = [min(df['Predicted Price']), min(df['Price'])]\n",
        "# maxs = [max(df['Predicted Price']), max(df['Price'])]\n",
        "# plt.plot([min(mins), max(maxs)], [min(mins), max(maxs)])\n",
        "# plt.scatter(df['Predicted Price'], df['Price'])\n",
        "# plt.xlabel('Predicted Price')\n",
        "# plt.ylabel('Price')\n",
        "# plt.savefig('Professional-Result.png')\n",
        "# plt.show()\n",
        "# print('Cost:')\n",
        "# print(cost_function_simplified(df['Predicted Price'], df['Price']))\n",
        "# exit(0)\n",
        "# ###################################################################\n",
        "# # df = pd.read_csv('/content/drive/MyDrive/ML_HW2_Q1/test.csv')\n",
        "# # # just in case that we can see the result, if we get all test.csv file, we get error of merror space due to its huge size\n",
        "# # # df = pd.read_csv('/content/train.csv')\n",
        "\n",
        "# # # Converting Non Numeric Values To Numeric Values By Using rank function\n",
        "# # df['City Rank'] = [(one_hot_decode(city_rank, x) - city_mean) / city_var for x in df['City']]\n",
        "# # df['State Rank'] = [(one_hot_decode(state_rank, x) - state_mean) / state_var for x in df['State']]\n",
        "# # # df['Vin Rank'] = [(one_hot_decode(vin_rank, x) - vin_mean) / vin_var for x in df['Vin']]\n",
        "# # df['Make Rank'] = [(one_hot_decode(make_rank, x) - make_mean) / make_var for x in df['Make']]\n",
        "# # df['Model Rank'] = [(one_hot_decode(model_rank, x) - model_mean) / model_var for x in df['Model']]\n",
        "\n",
        "\n",
        "# # # df['City Rank'] = [one_hot_decode(city_rank, x) for x in df['City']]\n",
        "# # # df['State Rank'] = [one_hot_decode(state_rank, x) for x in df['State']]\n",
        "# # # # df['Vin Rank'] = [(one_hot_decode(vin_rank, x) - vin_mean) / vin_var for x in df['Vin']]\n",
        "# # # df['Make Rank'] = [one_hot_decode(make_rank, x) for x in df['Make']]\n",
        "# # # df['Model Rank'] = [one_hot_decode(model_rank, x) for x in df['Model']]\n",
        "\n",
        "# # # mean = np.mean(df['City Rank'])\n",
        "# # # var = np.var(df['City Rank'])\n",
        "# # # df['City Rank'] = [(x - mean) / var for x in df['City Rank']]\n",
        "# # # mean = np.mean(df['State Rank'])\n",
        "# # # var = np.var(df['State Rank'])\n",
        "# # # df['State Rank'] = [(x - mean) / var for x in df['State Rank']]\n",
        "# # # mean = np.mean(df['Make Rank'])\n",
        "# # # var = np.var(df['Make Rank'])\n",
        "# # # df['Make Rank'] = [(x - mean) / var for x in df['Make Rank']]\n",
        "# # # mean = np.mean(df['Model Rank'])\n",
        "# # # var = np.var(df['Model Rank'])\n",
        "# # # df['Model Rank'] = [(x - mean) / var for x in df['Model Rank']]\n",
        "# # # df['Vin Rank'] = [(one_hot_decode(vin_rank, x) - vin_mean) / vin_var for x in df['Vin']]\n",
        "\n",
        "\n",
        "# # df['Year'] = [(x - year_mean) / year_var for x in df['Year']]\n",
        "\n",
        "# # df['Mileage'] = [(x - mileage_mean) / mileage_var for x in df['Mileage']]\n",
        "\n",
        "# # # print(df.head().to_string())\n",
        "\n",
        "# # # columns = ['Year', 'Mileage', 'City Rank', 'State Rank', 'Vin Rank', 'Make Rank', 'Model Rank']\n",
        "# # test_x = df.loc[:, columns].to_numpy()\n",
        "# # test_bias = np.ones(len(df))\n",
        "# # test_x = np.c_[test_x, test_bias]\n",
        "\n",
        "# # df['Price'] = np.dot(test_x, w)\n",
        "# # # print(df.to_string())\n",
        "# # # res_df = pd.read_csv('/content/drive/MyDrive/ML_HW2_Q1/test.csv')\n",
        "# # # res_df['Price'] = df['Price']\n",
        "# # # print(res_df.to_string())\n",
        "# # df.loc[:,['Price', 'CarId']].to_csv('/content/predict.csv', index = False)\n",
        "\n",
        "\n",
        "\n",
        "# ########################### SK_Learn #####################\n",
        "# # df = pd.read_csv('/content/train.csv')\n",
        "# # non_numeric = ['Model', 'Make', 'Vin', 'State', 'City']\n",
        "# # df['Model'] = [one_hot_decode(model_rank, x) for x in df['Model']]\n",
        "# # df['Make'] = [one_hot_decode(make_rank, x) for x in df['Make']]\n",
        "# # df['Vin'] = [one_hot_decode(vin_rank, x) for x in df['Vin']]\n",
        "# # df['State'] = [one_hot_decode(state_rank, x) for x in df['State']]\n",
        "# # df['City'] = [one_hot_decode(city_rank, x) for x in df['City']]\n",
        "# # from sklearn.linear_model import LinearRegression\n",
        "# # lr_model = LinearRegression()\n",
        "# # lr_model.fit(df.iloc[:,1:], df.iloc[:,0])\n",
        "# # w = lr_model.coef_\n",
        "# # b = lr_model.intercept_\n",
        "# # df['Predicted-Price'] = np.dot(df.iloc[:,1:], w) + b\n",
        "# # mins = [min(df['Price']), min(df['Predicted-Price'])]\n",
        "# # maxs = [max(df['Price']), max(df['Predicted-Price'])]\n",
        "# # plt.plot([min(mins), max(maxs)], [min(mins), max(maxs)])\n",
        "# # plt.scatter(df['Price'], df['Predicted-Price'])\n",
        "# # plt.title('AAAAAAAAAAAAAAAAAAAAAAAA')\n",
        "# # plt.xlabel('Price')\n",
        "# # plt.ylabel('sk_learn Price')\n",
        "# # plt.savefig('sk_learn-MyPredict.png')\n",
        "# # plt.show()\n",
        "# # test_df = pd.read_csv('/content/test.csv')\n",
        "# # test_df['Model'] = [one_hot_decode(model_rank, x) for x in test_df['Model']]\n",
        "# # test_df['Make'] = [one_hot_decode(make_rank, x) for x in test_df['Make']]\n",
        "# # test_df['Vin'] = [one_hot_decode(vin_rank, x) for x in test_df['Vin']]\n",
        "# # test_df['State'] = [one_hot_decode(state_rank, x) for x in test_df['State']]\n",
        "# # test_df['City'] = [one_hot_decode(city_rank, x) for x in test_df['City']]\n",
        "\n",
        "# # test_df['Price'] = np.dot(test_df.iloc[:,1:], w) + b\n",
        "# # mins = [min(res_df['Price']), min(test_df['Price'])]\n",
        "# # maxs = [max(res_df['Price']), max(test_df['Price'])]\n",
        "# # plt.plot([min(mins), max(maxs)], [min(mins), max(maxs)])\n",
        "# # plt.scatter(res_df['Price'], test_df['Price'])\n",
        "# # plt.xlabel('My Price')\n",
        "# # plt.ylabel('sk_learn Price')\n",
        "# # plt.savefig('sk_learn-MyPredict.png')\n",
        "# # plt.show()"
      ],
      "id": "PE8moTGacUzd"
    }
  ],
  "metadata": {
    "colab": {
      "provenance": []
    },
    "kernelspec": {
      "display_name": "Python 3 (ipykernel)",
      "language": "python",
      "name": "python3"
    },
    "language_info": {
      "codemirror_mode": {
        "name": "ipython",
        "version": 3
      },
      "file_extension": ".py",
      "mimetype": "text/x-python",
      "name": "python",
      "nbconvert_exporter": "python",
      "pygments_lexer": "ipython3",
      "version": "3.11.0"
    }
  },
  "nbformat": 4,
  "nbformat_minor": 5
}